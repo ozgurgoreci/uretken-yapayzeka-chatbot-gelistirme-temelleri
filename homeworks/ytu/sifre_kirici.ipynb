{
 "cells": [
  {
   "cell_type": "code",
   "execution_count": 9,
   "id": "d367d803-feab-4bec-b170-eb84a31cbe04",
   "metadata": {},
   "outputs": [
    {
     "name": "stdout",
     "output_type": "stream",
     "text": [
      "Çözülmüş Mesaj: the quick brown fox jumps over the lazy dog\n"
     ]
    }
   ],
   "source": [
    "#Özgür Göreci 20061077 Şifre Kırıcı\n",
    "\n",
    "import string #harfleri kolayca almak için \n",
    "\n",
    "def sifre_coz(sifreli_metin): # Şifre Çözmek için fonksiyon tanımladım\n",
    "    alfabe = string.ascii_lowercase\n",
    "    kaydirilmis_alfabe = alfabe[-5:] + alfabe[:-5]  # Alfabeyi 5 geri kaydırma\n",
    "    cozme_tablosu = str.maketrans(string.ascii_lowercase + string.ascii_uppercase,\n",
    "                                   kaydirilmis_alfabe + kaydirilmis_alfabe.upper())\n",
    "    \n",
    "    cozulmus_metin = sifreli_metin.translate(cozme_tablosu)\n",
    "    return sayilari_ters_cevir(cozulmus_metin)  # Sayıları ters çevir\n",
    "\n",
    "def sifrele(duz_metin): #Şifrelemek için fonksiyon tanımladım\n",
    "    alfabe = string.ascii_lowercase\n",
    "    kaydirilmis_alfabe = alfabe[5:] + alfabe[:5]  # Alfabeyi 5 ileri kaydırma\n",
    "    sifreleme_tablosu = str.maketrans(string.ascii_lowercase + string.ascii_uppercase,\n",
    "                                       kaydirilmis_alfabe + kaydirilmis_alfabe.upper())\n",
    "    \n",
    "    sifreli_metin = duz_metin.translate(sifreleme_tablosu)\n",
    "    return sayilari_ters_cevir(sifreli_metin)  # Sayıları ters çevir\n",
    "\n",
    "def sayilari_ters_cevir(metin): # sadece sayıları ters çevirmek için kullanılan fonksiyon yazdım\n",
    "    return ' '.join(c[::-1] if c.isdigit() else c for c in metin.split())\n",
    "\n",
    "# Şifreli mesajı çözüyoruz\n",
    "sifreli_metin = \"ymj vznhp gwtbs ktc ozrux tajw ymj qfed itl\"\n",
    "cozulmus_metin = sifre_coz(sifreli_metin)\n",
    "print(\"Çözülmüş Mesaj:\", cozulmus_metin)\n",
    "\n"
   ]
  },
  {
   "cell_type": "code",
   "execution_count": 10,
   "id": "4c8eed28-8386-4eef-9684-d33de14f606e",
   "metadata": {},
   "outputs": [
    {
     "name": "stdin",
     "output_type": "stream",
     "text": [
      "Şifrelemek için 'E', çözmek için 'D', çıkmak için 'Q' girin:  q\n"
     ]
    },
    {
     "name": "stdout",
     "output_type": "stream",
     "text": [
      "Görev tamamlandı.\n"
     ]
    }
   ],
   "source": [
    "# Bonus- Kullanıcıdan giriş alıp şifreleme ve çözme\n",
    "if __name__ == \"__main__\":\n",
    "    while True:\n",
    "        secim = input(\"Şifrelemek için 'E', çözmek için 'D', çıkmak için 'Q' girin: \").upper()\n",
    "        if secim == 'E':\n",
    "            metin = input(\"Şifrelenecek metni girin: \")\n",
    "            print(\"Şifreli Metin:\", sifrele(metin))\n",
    "        elif secim == 'D':\n",
    "            metin = input(\"Çözülecek metni girin: \")\n",
    "            print(\"Çözülmüş Metin:\", sifre_coz(metin))\n",
    "        elif secim == 'Q':\n",
    "            print(\"Görev tamamlandı.\")\n",
    "            break\n",
    "        else:\n",
    "            print(\"Geçersiz seçim. Lütfen tekrar deneyin.\")\n",
    "\n"
   ]
  },
  {
   "cell_type": "code",
   "execution_count": null,
   "id": "15d9e3ec-7663-4c6d-9362-76982342afe2",
   "metadata": {},
   "outputs": [],
   "source": []
  }
 ],
 "metadata": {
  "kernelspec": {
   "display_name": "anaconda-panel-2023.05-py310",
   "language": "python",
   "name": "conda-env-anaconda-panel-2023.05-py310-py"
  },
  "language_info": {
   "codemirror_mode": {
    "name": "ipython",
    "version": 3
   },
   "file_extension": ".py",
   "mimetype": "text/x-python",
   "name": "python",
   "nbconvert_exporter": "python",
   "pygments_lexer": "ipython3",
   "version": "3.11.5"
  }
 },
 "nbformat": 4,
 "nbformat_minor": 5
}
